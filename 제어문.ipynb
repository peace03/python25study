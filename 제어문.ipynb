{
  "nbformat": 4,
  "nbformat_minor": 0,
  "metadata": {
    "colab": {
      "provenance": [],
      "authorship_tag": "ABX9TyNYvHCDdDe75VH1ZcLy8wMb",
      "include_colab_link": true
    },
    "kernelspec": {
      "name": "python3",
      "display_name": "Python 3"
    },
    "language_info": {
      "name": "python"
    }
  },
  "cells": [
    {
      "cell_type": "markdown",
      "metadata": {
        "id": "view-in-github",
        "colab_type": "text"
      },
      "source": [
        "<a href=\"https://colab.research.google.com/github/peace03/python25study/blob/main/%EC%A0%9C%EC%96%B4%EB%AC%B8.ipynb\" target=\"_parent\"><img src=\"https://colab.research.google.com/assets/colab-badge.svg\" alt=\"Open In Colab\"/></a>"
      ]
    },
    {
      "cell_type": "code",
      "execution_count": 14,
      "metadata": {
        "colab": {
          "base_uri": "https://localhost:8080/"
        },
        "id": "j88cf7N3s_c6",
        "outputId": "fe8f34b6-7658-4c1a-a9d1-1783611bc57b"
      },
      "outputs": [
        {
          "output_type": "stream",
          "name": "stdout",
          "text": [
            "자전거 대여하자\n"
          ]
        }
      ],
      "source": [
        "#if문 (조건문 ture일 때 실행)\n",
        "money = 1000\n",
        "if money >= 10000:\n",
        "  print(\"택시타자\")\n",
        "elif 10000 > money >= 5000: #elif는 개수 제한 없이 사용 가능하다\n",
        "  print(\"버스타자\")\n",
        "elif 5000 > money >= 1000:\n",
        "  print(\"자전거 대여하자\")\n",
        "else:\n",
        "  print(\"걸어가자\")"
      ]
    },
    {
      "cell_type": "code",
      "source": [
        "#in, not in 조건문\n",
        "pocket = ['paper', 'cellphone', 'money']\n",
        "if 'money' in pocket:\n",
        "  pass #아무것도 실행하고싶지 않을때 사용\n",
        "  #print(\"택시타자\")\n",
        "else:\n",
        "  print(\"걸어가자\")"
      ],
      "metadata": {
        "id": "_ADX2uS29Se_"
      },
      "execution_count": 13,
      "outputs": []
    },
    {
      "cell_type": "code",
      "source": [
        "#조건부 표현식 (복잡한 조건에선 자제 -> 가독성 떨어짐)\n",
        "score = 85\n",
        "result = \"합격\" if score >= 60 else \"불합격\"\n",
        "print(result)"
      ],
      "metadata": {
        "colab": {
          "base_uri": "https://localhost:8080/"
        },
        "id": "E9DsY2l-_1Dv",
        "outputId": "45d9257c-abd9-40c5-b31f-116973eb39e6"
      },
      "execution_count": 15,
      "outputs": [
        {
          "output_type": "stream",
          "name": "stdout",
          "text": [
            "합격\n"
          ]
        }
      ]
    },
    {
      "cell_type": "code",
      "source": [
        "#while문\n",
        "menu = \"\"\"1. 햄버거\n",
        "2. 감자튀김\n",
        "3. 치즈스틱\n",
        "4. 콜라\n",
        "5. 사이다\n",
        "6. 종료\"\"\"\n",
        "order = 0\n",
        "while order != 6:\n",
        "  print(menu)\n",
        "  order = int(input())\n",
        "print(\"주문이 완료되었습니다.\")"
      ],
      "metadata": {
        "colab": {
          "base_uri": "https://localhost:8080/"
        },
        "id": "hJyL_bqQAV5f",
        "outputId": "21e2cbb2-9ff7-403c-ec68-a1f02aa00c1d"
      },
      "execution_count": 17,
      "outputs": [
        {
          "output_type": "stream",
          "name": "stdout",
          "text": [
            "1. 햄버거\n",
            "2. 감자튀김\n",
            "3. 치즈스틱\n",
            "4. 콜라\n",
            "5. 사이다\n",
            "6. 종료\n",
            "1\n",
            "1. 햄버거\n",
            "2. 감자튀김\n",
            "3. 치즈스틱\n",
            "4. 콜라\n",
            "5. 사이다\n",
            "6. 종료\n",
            "6\n",
            "주문이 완료되었습니다.\n"
          ]
        }
      ]
    },
    {
      "cell_type": "code",
      "source": [
        "#continue (while문 맨 처음으로 돌아가기)\n",
        "a = 0\n",
        "while a < 20:\n",
        "  a = a + 1\n",
        "  if a % 2 == 0: continue\n",
        "  print(a)"
      ],
      "metadata": {
        "colab": {
          "base_uri": "https://localhost:8080/"
        },
        "id": "tGFEmPjODm69",
        "outputId": "129516d1-caf8-4664-9157-8851f7633389"
      },
      "execution_count": 21,
      "outputs": [
        {
          "output_type": "stream",
          "name": "stdout",
          "text": [
            "1\n",
            "3\n",
            "5\n",
            "7\n",
            "9\n",
            "11\n",
            "13\n",
            "15\n",
            "17\n",
            "19\n"
          ]
        }
      ]
    },
    {
      "cell_type": "code",
      "source": [
        "#while-else문 (while문이 정상 종료 되었을 때 실행한다. break를 사용하면 실행되지 않는다.)\n",
        "count = 0\n",
        "while count < 3:\n",
        "  #if count == 2:\n",
        "    #break\n",
        "  print(f\"카운트: {count+1}\")\n",
        "  count += 1\n",
        "else:\n",
        "  print(\"while문이 정상 종료되었습니다.\")"
      ],
      "metadata": {
        "colab": {
          "base_uri": "https://localhost:8080/"
        },
        "id": "Q-ykUxI1HMP1",
        "outputId": "624e6f02-7f23-4848-beef-0657d7e522db"
      },
      "execution_count": 25,
      "outputs": [
        {
          "output_type": "stream",
          "name": "stdout",
          "text": [
            "카운트: 1\n",
            "카운트: 2\n"
          ]
        }
      ]
    },
    {
      "cell_type": "code",
      "source": [
        "#중첩 while문\n",
        "i = 1\n",
        "while i <= 3:\n",
        "  j = 1\n",
        "  while j <= 3:\n",
        "    print(f\"i={i}, j={j}\")\n",
        "    j+=1\n",
        "  i+=1"
      ],
      "metadata": {
        "colab": {
          "base_uri": "https://localhost:8080/"
        },
        "id": "z36HhrBKH3gP",
        "outputId": "80e1eaba-9d9e-4314-b2f7-8bd2b04b5d12"
      },
      "execution_count": 26,
      "outputs": [
        {
          "output_type": "stream",
          "name": "stdout",
          "text": [
            "i=1, j=1\n",
            "i=1, j=2\n",
            "i=1, j=3\n",
            "i=2, j=1\n",
            "i=2, j=2\n",
            "i=2, j=3\n",
            "i=3, j=1\n",
            "i=3, j=2\n",
            "i=3, j=3\n"
          ]
        }
      ]
    },
    {
      "cell_type": "code",
      "source": [
        "#for문 (리스트, 튜플, 딕셔너리, 문자열)\n",
        "test_list = ['one', 'two', 'three'] #리스트\n",
        "for i in test_list:\n",
        "  print(i)\n",
        "a = [(1,2), (3,4), (5,6)] #튜플\n",
        "for (first, last) in a:\n",
        "  print(first + last)\n",
        "b = {'name':'홍길동','phone':'01055558888'}\n",
        "for key, value in b.items(): #딕셔너리 (.values(0), .keys()도 사용가능)\n",
        "  print(key, value)"
      ],
      "metadata": {
        "colab": {
          "base_uri": "https://localhost:8080/"
        },
        "id": "0DB_Zf-GI6qu",
        "outputId": "27ebdafc-ab03-4997-aea4-833a681de3fe"
      },
      "execution_count": 31,
      "outputs": [
        {
          "output_type": "stream",
          "name": "stdout",
          "text": [
            "one\n",
            "two\n",
            "three\n",
            "3\n",
            "7\n",
            "11\n",
            "name 홍길동\n",
            "phone 01055558888\n"
          ]
        }
      ]
    },
    {
      "cell_type": "code",
      "source": [
        "#for문 continue\n",
        "marks = [90, 25, 67, 45, 80]\n",
        "\n",
        "number = 0\n",
        "for mark in marks:\n",
        "    number = number +1\n",
        "    if mark < 60:\n",
        "        continue\n",
        "    print(\"%d번 학생 축하합니다. 합격입니다. \" % number)\n"
      ],
      "metadata": {
        "colab": {
          "base_uri": "https://localhost:8080/"
        },
        "id": "s4tFjbgcLchW",
        "outputId": "169e05e6-835a-43ff-e7a5-ae5285a6c1bf"
      },
      "execution_count": 32,
      "outputs": [
        {
          "output_type": "stream",
          "name": "stdout",
          "text": [
            "1번 학생 축하합니다. 합격입니다. \n",
            "3번 학생 축하합니다. 합격입니다. \n",
            "5번 학생 축하합니다. 합격입니다. \n"
          ]
        }
      ]
    },
    {
      "cell_type": "code",
      "source": [
        "#for문 range(시작숫자,끝숫자,숫자간격)\n",
        "for i in range(2,10):\n",
        "  for j in range(1,10):\n",
        "    print(i*j, end=\" \")\n",
        "  print('')"
      ],
      "metadata": {
        "colab": {
          "base_uri": "https://localhost:8080/"
        },
        "id": "cu7QnmTmLn-U",
        "outputId": "3a7b9f88-2523-4cae-c7ef-d6c8c23755fd"
      },
      "execution_count": 33,
      "outputs": [
        {
          "output_type": "stream",
          "name": "stdout",
          "text": [
            "2 4 6 8 10 12 14 16 18 \n",
            "3 6 9 12 15 18 21 24 27 \n",
            "4 8 12 16 20 24 28 32 36 \n",
            "5 10 15 20 25 30 35 40 45 \n",
            "6 12 18 24 30 36 42 48 54 \n",
            "7 14 21 28 35 42 49 56 63 \n",
            "8 16 24 32 40 48 56 64 72 \n",
            "9 18 27 36 45 54 63 72 81 \n"
          ]
        }
      ]
    },
    {
      "cell_type": "code",
      "source": [
        "#리스트 컴프리헨션(list comprehension 리스트 안에 for문 사용)\n",
        "result = [x*y for x in range(2,10)\n",
        "                for y in range(1,10)]\n",
        "print(result)"
      ],
      "metadata": {
        "colab": {
          "base_uri": "https://localhost:8080/"
        },
        "id": "AfPnNdpEM3n9",
        "outputId": "76a7ce1c-cec0-4d56-ddeb-e375734eb603"
      },
      "execution_count": 34,
      "outputs": [
        {
          "output_type": "stream",
          "name": "stdout",
          "text": [
            "[2, 4, 6, 8, 10, 12, 14, 16, 18, 3, 6, 9, 12, 15, 18, 21, 24, 27, 4, 8, 12, 16, 20, 24, 28, 32, 36, 5, 10, 15, 20, 25, 30, 35, 40, 45, 6, 12, 18, 24, 30, 36, 42, 48, 54, 7, 14, 21, 28, 35, 42, 49, 56, 63, 8, 16, 24, 32, 40, 48, 56, 64, 72, 9, 18, 27, 36, 45, 54, 63, 72, 81]\n"
          ]
        }
      ]
    },
    {
      "cell_type": "code",
      "source": [
        "#for문에서 break\n",
        "for i in range(10):\n",
        "  #if i == 5: break\n",
        "  print(i, end=\" \")\n",
        "else: #for-else문 (break로 끝나면 실행 안됨)\n",
        "  print(\"for문 정상종료\")\n",
        "\n"
      ],
      "metadata": {
        "colab": {
          "base_uri": "https://localhost:8080/"
        },
        "id": "YUjJ16JlNkhd",
        "outputId": "b5975f2a-d0f0-4b3c-de9d-a5ad9e8d04cf"
      },
      "execution_count": 38,
      "outputs": [
        {
          "output_type": "stream",
          "name": "stdout",
          "text": [
            "0 1 2 3 4 5 6 7 8 9 for문 정상종료\n"
          ]
        }
      ]
    },
    {
      "cell_type": "code",
      "source": [
        "#for문 enumerate함수 (인덱스와 값을 함께 사용)\n",
        "fruits = ['apple', 'banana', 'orange']\n",
        "for i, fruit in enumerate(fruits, 10): #인덱스 10부터 시작\n",
        "  print(f\"{i}: {fruit}\")\n",
        "\n",
        "#for문 zip함수 (두개 이상의 리스트 동시 순회)\n",
        "names = ['홍길동','김철수','이영희']\n",
        "scores = [85,92,78]\n",
        "for name, score in zip(names,scores):\n",
        "  print(f\"{name}: {score}점\")"
      ],
      "metadata": {
        "colab": {
          "base_uri": "https://localhost:8080/"
        },
        "id": "wm-4nQCAPy5M",
        "outputId": "03fa64fa-0a92-41df-e045-5b7859cde40a"
      },
      "execution_count": 44,
      "outputs": [
        {
          "output_type": "stream",
          "name": "stdout",
          "text": [
            "10: apple\n",
            "11: banana\n",
            "12: orange\n",
            "홍길동: 85점\n",
            "김철수: 92점\n",
            "이영희: 78점\n"
          ]
        }
      ]
    }
  ]
}