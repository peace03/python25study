{
  "nbformat": 4,
  "nbformat_minor": 0,
  "metadata": {
    "colab": {
      "provenance": [],
      "authorship_tag": "ABX9TyMkrX+0+aCefghpSTEo9O9x",
      "include_colab_link": true
    },
    "kernelspec": {
      "name": "python3",
      "display_name": "Python 3"
    },
    "language_info": {
      "name": "python"
    }
  },
  "cells": [
    {
      "cell_type": "markdown",
      "metadata": {
        "id": "view-in-github",
        "colab_type": "text"
      },
      "source": [
        "<a href=\"https://colab.research.google.com/github/peace03/python25study/blob/main/%EC%9E%85%EC%B6%9C%EB%A0%A5.ipynb\" target=\"_parent\"><img src=\"https://colab.research.google.com/assets/colab-badge.svg\" alt=\"Open In Colab\"/></a>"
      ]
    },
    {
      "cell_type": "code",
      "execution_count": 2,
      "metadata": {
        "colab": {
          "base_uri": "https://localhost:8080/"
        },
        "id": "MwcQr5ERxXEW",
        "outputId": "1941590d-a8d6-47ac-a86f-10f1d1c47ae6"
      },
      "outputs": [
        {
          "output_type": "stream",
          "name": "stdout",
          "text": [
            "7\n"
          ]
        }
      ],
      "source": [
        "#함수\n",
        "#매개변수: 함수에 입력으로 전달된 값을 받는 변수\n",
        "#인수: 함수를 호출할 때 전달하는 입력값\n",
        "def add(a,b): #a, b 매개변수\n",
        "  return a+b\n",
        "\n",
        "a = 3\n",
        "b = 4\n",
        "c = add(a,b) #a, b 인수\n",
        "print(c)"
      ]
    },
    {
      "cell_type": "code",
      "source": [
        "#입력값 없는 함수\n",
        "def say():\n",
        "  return 'Hi'\n",
        "print(say())\n",
        "\n",
        "#반환값 없는 함수\n",
        "def add(a,b):\n",
        "  print(\"%d, %d의 합은 %d입니다.\"%(a,b,a+b))\n",
        "add(3,4)\n",
        "\n",
        "#입력값 반환값 없는 함수\n",
        "def say2():\n",
        "  print('hi')\n",
        "say2()"
      ],
      "metadata": {
        "colab": {
          "base_uri": "https://localhost:8080/"
        },
        "id": "bOeNTob-z1p1",
        "outputId": "f1eb4208-693c-4816-9c9c-e7f4d1645782"
      },
      "execution_count": 8,
      "outputs": [
        {
          "output_type": "stream",
          "name": "stdout",
          "text": [
            "Hi\n",
            "3, 4의 합은 7입니다.\n",
            "hi\n"
          ]
        }
      ]
    },
    {
      "cell_type": "code",
      "source": [
        "#매개변수 지정하여 호출\n",
        "def sub(a,b):\n",
        "  return a-b\n",
        "print(sub(b=3, a=5))"
      ],
      "metadata": {
        "colab": {
          "base_uri": "https://localhost:8080/"
        },
        "id": "_ia_uoPg2c0F",
        "outputId": "3be83954-cd68-403a-a070-208e69fd9198"
      },
      "execution_count": 9,
      "outputs": [
        {
          "output_type": "stream",
          "name": "stdout",
          "text": [
            "2\n"
          ]
        }
      ]
    },
    {
      "cell_type": "code",
      "source": [
        "#가변 매개변수\n",
        "def add_many(*args):\n",
        "  result = 0\n",
        "  for i in args:\n",
        "    result += i\n",
        "  return result\n",
        "\n",
        "print(add_many(1,2,3,4,5,6,7,8,9,10))"
      ],
      "metadata": {
        "colab": {
          "base_uri": "https://localhost:8080/"
        },
        "id": "cbfgJo3q2uo9",
        "outputId": "e6c79af4-13a0-46be-d6d4-733771264447"
      },
      "execution_count": 10,
      "outputs": [
        {
          "output_type": "stream",
          "name": "stdout",
          "text": [
            "55\n"
          ]
        }
      ]
    },
    {
      "cell_type": "code",
      "source": [
        "#가변 매개변수를 포함한 추가 매개변수\n",
        "def add_mul(choice, *args):\n",
        "  if choice == \"add\":\n",
        "    result = 0\n",
        "    for i in args:\n",
        "      result += i\n",
        "  elif choice == \"mul\":\n",
        "    result = 1\n",
        "    for i in args:\n",
        "      result *= i\n",
        "  return result\n",
        "print(add_mul('add',1,2,3,4,5,6,7,8,9))"
      ],
      "metadata": {
        "colab": {
          "base_uri": "https://localhost:8080/"
        },
        "id": "Lw3M3-7R4Yuc",
        "outputId": "00e42fb5-bdc6-49d4-c3cb-9a749178bb37"
      },
      "execution_count": 14,
      "outputs": [
        {
          "output_type": "stream",
          "name": "stdout",
          "text": [
            "45\n"
          ]
        }
      ]
    },
    {
      "cell_type": "code",
      "source": [
        "#키워드 매개변수, kwargs\n",
        "def create_profile(**info):\n",
        "  print('===프로필 정보===')\n",
        "  for key,value in info.items():\n",
        "    print(f'{key}:{value}')\n",
        "\n",
        "create_profile(이름='윤평화',나이=23,직업='프로그래머',취미='독서')"
      ],
      "metadata": {
        "colab": {
          "base_uri": "https://localhost:8080/"
        },
        "id": "zk5X8gIQ6bdU",
        "outputId": "92dc7154-2702-493b-db46-73233ba3f606"
      },
      "execution_count": 16,
      "outputs": [
        {
          "output_type": "stream",
          "name": "stdout",
          "text": [
            "===프로필 정보===\n",
            "이름:윤평화\n",
            "나이:23\n",
            "직업:프로그래머\n",
            "취미:독서\n"
          ]
        }
      ]
    },
    {
      "cell_type": "code",
      "source": [
        "#일반 매개변수, 가변 매개변수, 키워드 매개변수 함께 사용\n",
        "def mixed_function(name, *args, **kwargs):\n",
        "  print(f'이름: {name}')\n",
        "  print(f'추가 인수들: {args}')\n",
        "  print(f'키워드 인수들: {kwargs}')\n",
        "\n",
        "mixed_function('윤평화', 1,2,3, age=23, city='화성')"
      ],
      "metadata": {
        "colab": {
          "base_uri": "https://localhost:8080/"
        },
        "id": "4zhK_ls_7ip8",
        "outputId": "b1d271e0-0750-4648-bc76-23ef065a7775"
      },
      "execution_count": 17,
      "outputs": [
        {
          "output_type": "stream",
          "name": "stdout",
          "text": [
            "이름: 윤평화\n",
            "추가 인수들: (1, 2, 3)\n",
            "키워드 인수들: {'age': 23, 'city': '화성'}\n"
          ]
        }
      ]
    },
    {
      "cell_type": "code",
      "source": [
        "#함수의 반환값은 언제나 하나\n",
        "def add_and_mul(a,b):\n",
        "  return a+b, a*b #튜블 형식으로 묶어서 하나의 반환값임\n",
        "result1, result2 = add_and_mul(3,4) #따로 받아낼 수 있음\n",
        "print(result1, result2)\n",
        "print(add_and_mul(3,4))"
      ],
      "metadata": {
        "colab": {
          "base_uri": "https://localhost:8080/"
        },
        "id": "xQYx0NSL8xf0",
        "outputId": "1f0ad71c-69e2-465a-9091-e4069707bf4a"
      },
      "execution_count": 19,
      "outputs": [
        {
          "output_type": "stream",
          "name": "stdout",
          "text": [
            "7 12\n",
            "(7, 12)\n"
          ]
        }
      ]
    },
    {
      "cell_type": "code",
      "source": [
        "#매개변수 초기값 미리 설정\n",
        "def say_myself(name, old, man=True): #초기값을 정한 매개변수는 무조건 마지막에 와야함\n",
        "  print(f'나의 이름은 {name}입니다.')\n",
        "  print(f'나이는 {old}살입니다.')\n",
        "  if man:\n",
        "    print('남자입니다.')\n",
        "  else:\n",
        "    print('여자입니다.')\n",
        "\n",
        "say_myself('윤평화',23)\n",
        "say_myself('윤평화',23,False)"
      ],
      "metadata": {
        "colab": {
          "base_uri": "https://localhost:8080/"
        },
        "id": "ZyG5l7st986z",
        "outputId": "91afa5df-bd0d-428a-dad6-8281aa32c5c6"
      },
      "execution_count": 20,
      "outputs": [
        {
          "output_type": "stream",
          "name": "stdout",
          "text": [
            "나의 이름은 윤평화입니다.\n",
            "나이는 23살입니다.\n",
            "남자입니다.\n",
            "나의 이름은 윤평화입니다.\n",
            "나이는 23살입니다.\n",
            "여자입니다.\n"
          ]
        }
      ]
    },
    {
      "cell_type": "code",
      "source": [
        "#함수 안에서 선언간 변수는 함수 밖 변수와 이름이 같아도 독립된 변수다\n",
        "#하지만 global 명령어로 함수 밖 변수 사용 가능하다. (되도록 사용 안하는 것이 좋다.)\n",
        "a = 1\n",
        "def vartest():\n",
        "  global a\n",
        "  a += 1\n",
        "vartest()\n",
        "print(a)"
      ],
      "metadata": {
        "colab": {
          "base_uri": "https://localhost:8080/"
        },
        "id": "IMwGnjco-t-z",
        "outputId": "ba904a24-8f28-4c2b-98b2-840ee55adb73"
      },
      "execution_count": 21,
      "outputs": [
        {
          "output_type": "stream",
          "name": "stdout",
          "text": [
            "2\n"
          ]
        }
      ]
    },
    {
      "cell_type": "code",
      "source": [
        "#lambda 예약어: 함수 생성, def 역할과 동일\n",
        "add = lambda a,b : a+b\n",
        "print(add(3,5))"
      ],
      "metadata": {
        "colab": {
          "base_uri": "https://localhost:8080/"
        },
        "id": "CcMnnyJv_eBT",
        "outputId": "0c69aff7-280d-4d2b-b11b-347878b974e2"
      },
      "execution_count": 22,
      "outputs": [
        {
          "output_type": "stream",
          "name": "stdout",
          "text": [
            "8\n"
          ]
        }
      ]
    },
    {
      "cell_type": "code",
      "source": [
        "#함수의 독스트링(Docstring)\n",
        "def add(a,b):\n",
        "  \"\"\"\n",
        "  두 숫자를 더하는 함수\n",
        "\n",
        "  Parameters:\n",
        "  a(int, float): 첫 번째 숫자\n",
        "  b(int, float): 두 번째 숫자\n",
        "\n",
        "  Returns:\n",
        "  int, float: 두 숫자의 합\n",
        "  \"\"\"\n",
        "  return a+b\n",
        "\n",
        "#독스트링 확인하기\n",
        "print(add.__doc__)"
      ],
      "metadata": {
        "colab": {
          "base_uri": "https://localhost:8080/"
        },
        "id": "BTUqD0QwAN3z",
        "outputId": "4997caee-fe3f-4e1c-f02f-aebf764eb1d9"
      },
      "execution_count": 23,
      "outputs": [
        {
          "output_type": "stream",
          "name": "stdout",
          "text": [
            "\n",
            "  두 숫자를 더하는 함수\n",
            "\n",
            "  Parameters:\n",
            "  a(int, float): 첫 번째 숫자\n",
            "  b(int, float): 두 번째 숫자\n",
            "\n",
            "  Returns:\n",
            "  int, float: 두 숫자의 합\n",
            "  \n"
          ]
        }
      ]
    },
    {
      "cell_type": "code",
      "source": [
        "#사용자 입출력 (input은 입력값 모두 문자열 취급)\n",
        "a = input()\n",
        "#안내문구\n",
        "number = input(\"숫자를 입력하세요: \")\n",
        "a, number, type(number)"
      ],
      "metadata": {
        "colab": {
          "base_uri": "https://localhost:8080/"
        },
        "id": "6AmowgBrBHgR",
        "outputId": "aef3325f-e4e2-4747-e79e-40f583c4db7a"
      },
      "execution_count": 29,
      "outputs": [
        {
          "name": "stdout",
          "output_type": "stream",
          "text": [
            "east\n",
            "숫자를 입력하세요: 55\n"
          ]
        },
        {
          "output_type": "execute_result",
          "data": {
            "text/plain": [
              "('east', '55', str)"
            ]
          },
          "metadata": {},
          "execution_count": 29
        }
      ]
    },
    {
      "cell_type": "code",
      "source": [
        "#입력값 형변환\n",
        "age = input(\"나이 입력: \")\n",
        "age = int(age) #정수로 변환\n",
        "height = input(\"키 입력: \")\n",
        "height = float(height) #실수로 변환\n",
        "age, type(age), height, type(height)"
      ],
      "metadata": {
        "colab": {
          "base_uri": "https://localhost:8080/"
        },
        "id": "Pr0lodbSCCnq",
        "outputId": "bb68aa45-3f91-4ca5-f35f-b939b27647fe"
      },
      "execution_count": 32,
      "outputs": [
        {
          "name": "stdout",
          "output_type": "stream",
          "text": [
            "나이 입력: 23\n",
            "키 입력: 168.9\n"
          ]
        },
        {
          "output_type": "execute_result",
          "data": {
            "text/plain": [
              "(23, int, 168.9, float)"
            ]
          },
          "metadata": {},
          "execution_count": 32
        }
      ]
    },
    {
      "cell_type": "code",
      "source": [
        "#print\n",
        "print('life''is''too short')\n",
        "print('life'+'is'+'too short')\n",
        "print('life','is','too short\\n') #자동 띄어쓰기\n",
        "\n",
        "#sep 매개변수: 구분자 설정 (기본값: ' ')\n",
        "print('2025','08','17\\n',sep='/')\n",
        "\n",
        "#한 줄에 출력 (기본값: \\n)\n",
        "for i in range(10):\n",
        "  print(i, end=' ')"
      ],
      "metadata": {
        "colab": {
          "base_uri": "https://localhost:8080/"
        },
        "id": "qnAxMnkfCp16",
        "outputId": "a3058527-1c3c-4c3c-ce63-68f396e688b6"
      },
      "execution_count": 40,
      "outputs": [
        {
          "output_type": "stream",
          "name": "stdout",
          "text": [
            "lifeistoo short\n",
            "lifeistoo short\n",
            "life is too short\n",
            "\n",
            "2025/08/17\n",
            "\n",
            "0 1 2 3 4 5 6 7 8 9 "
          ]
        }
      ]
    },
    {
      "cell_type": "code",
      "source": [
        "#간단한 계산기\n",
        "print('====계산기====')\n",
        "#두 숫자 입력\n",
        "num1 = float(input('첫 번째 숫자: '))\n",
        "num2 = float(input('두 번째 숫자: '))\n",
        "#계산\n",
        "print(f'{num1}+{num2}={num1+num2}')\n",
        "print(f'{num1}-{num2}={num1-num2}')\n",
        "print(f'{num1}*{num2}={num1*num2}')\n",
        "if num2 != 0:\n",
        "  print(f'{num1}/{num2}={num1/num2}')\n",
        "else: print('0으로 나눌 수 없습니다.')"
      ],
      "metadata": {
        "colab": {
          "base_uri": "https://localhost:8080/"
        },
        "id": "tsWa_m_0D4m6",
        "outputId": "c43d1348-6ddd-4300-ee11-616005e9f3cb"
      },
      "execution_count": 43,
      "outputs": [
        {
          "output_type": "stream",
          "name": "stdout",
          "text": [
            "====계산기====\n",
            "첫 번째 숫자: 0\n",
            "두 번째 숫자: 0\n",
            "0.0+0.0=0.0\n",
            "0.0-0.0=0.0\n",
            "0.0*0.0=0.0\n",
            "0으로 나눌 수 없습니다.\n"
          ]
        }
      ]
    },
    {
      "cell_type": "code",
      "source": [
        "#파일 쓰기\n",
        "#w: 쓰기모드 (파일이 이미 존재한다면 내용이 사라진다.)\n",
        "f = open(\"/content/새파일.txt\",'w')\n",
        "for i in range(1, 11):\n",
        "  data = \"%d번째 줄입니다.\\n\" % i\n",
        "  f.write(data)\n",
        "f.close()"
      ],
      "metadata": {
        "id": "IjIiCi49G10p"
      },
      "execution_count": 59,
      "outputs": []
    },
    {
      "cell_type": "code",
      "source": [
        "#파일 읽기\n",
        "#r: 읽기 모드\n",
        "#readline 함수\n",
        "f = open('새파일.txt','r')\n",
        "while True:\n",
        "  line = f.readline() #읽을 줄이 없으면 ''반환\n",
        "  if not line: break\n",
        "  print(line)\n",
        "f.close()"
      ],
      "metadata": {
        "colab": {
          "base_uri": "https://localhost:8080/"
        },
        "id": "xfkaILIbIlvK",
        "outputId": "6ad4397b-b478-486c-8d1f-8b28654e0c97"
      },
      "execution_count": 50,
      "outputs": [
        {
          "output_type": "stream",
          "name": "stdout",
          "text": [
            "1번째 줄입니다.\n",
            "\n",
            "2번째 줄입니다.\n",
            "\n",
            "3번째 줄입니다.\n",
            "\n",
            "4번째 줄입니다.\n",
            "\n",
            "5번째 줄입니다.\n",
            "\n",
            "6번째 줄입니다.\n",
            "\n",
            "7번째 줄입니다.\n",
            "\n",
            "8번째 줄입니다.\n",
            "\n",
            "9번째 줄입니다.\n",
            "\n",
            "10번째 줄입니다.\n",
            "\n"
          ]
        }
      ]
    },
    {
      "cell_type": "code",
      "source": [
        "#파일 읽기\n",
        "#readlines 함수\n",
        "f = open('새파일.txt','r')\n",
        "lines = f.readlines() #모든 줄을 리스트 형태로 반환\n",
        "for line in lines:\n",
        "  line = line.strip() #줄 끝 줄바꿈 문자 제거\n",
        "  print(line)\n",
        "f.close()"
      ],
      "metadata": {
        "colab": {
          "base_uri": "https://localhost:8080/"
        },
        "id": "Ob2RVb-8J2IR",
        "outputId": "706fbc7f-e5e9-476f-c3cb-f3fdf572a508"
      },
      "execution_count": 52,
      "outputs": [
        {
          "output_type": "stream",
          "name": "stdout",
          "text": [
            "1번째 줄입니다.\n",
            "2번째 줄입니다.\n",
            "3번째 줄입니다.\n",
            "4번째 줄입니다.\n",
            "5번째 줄입니다.\n",
            "6번째 줄입니다.\n",
            "7번째 줄입니다.\n",
            "8번째 줄입니다.\n",
            "9번째 줄입니다.\n",
            "10번째 줄입니다.\n"
          ]
        }
      ]
    },
    {
      "cell_type": "code",
      "source": [
        "#파일 읽기\n",
        "#read 함수\n",
        "f = open('새파일.txt','r')\n",
        "data = f.read() #파일 내용 전체 문자열 반환\n",
        "print(data)\n",
        "f.close()"
      ],
      "metadata": {
        "colab": {
          "base_uri": "https://localhost:8080/"
        },
        "id": "oTGxFxY-K5V4",
        "outputId": "73400086-acb9-4cc8-a6e0-27d5648e2da9"
      },
      "execution_count": 53,
      "outputs": [
        {
          "output_type": "stream",
          "name": "stdout",
          "text": [
            "1번째 줄입니다.\n",
            "2번째 줄입니다.\n",
            "3번째 줄입니다.\n",
            "4번째 줄입니다.\n",
            "5번째 줄입니다.\n",
            "6번째 줄입니다.\n",
            "7번째 줄입니다.\n",
            "8번째 줄입니다.\n",
            "9번째 줄입니다.\n",
            "10번째 줄입니다.\n",
            "\n"
          ]
        }
      ]
    },
    {
      "cell_type": "code",
      "source": [
        "#파일 읽기\n",
        "#for문 사용\n",
        "f = open('새파일.txt','r')\n",
        "for line in f:\n",
        "  print(line.strip())\n",
        "f.close()"
      ],
      "metadata": {
        "colab": {
          "base_uri": "https://localhost:8080/"
        },
        "id": "dtw9EvZjLTe5",
        "outputId": "d7371ef0-1355-474f-9d75-3dc45f495f9f"
      },
      "execution_count": 56,
      "outputs": [
        {
          "output_type": "stream",
          "name": "stdout",
          "text": [
            "1번째 줄입니다.\n",
            "2번째 줄입니다.\n",
            "3번째 줄입니다.\n",
            "4번째 줄입니다.\n",
            "5번째 줄입니다.\n",
            "6번째 줄입니다.\n",
            "7번째 줄입니다.\n",
            "8번째 줄입니다.\n",
            "9번째 줄입니다.\n",
            "10번째 줄입니다.\n"
          ]
        }
      ]
    },
    {
      "cell_type": "code",
      "source": [
        "#a: 파일 추가 모드\n",
        "f = open('새파일.txt','a')\n",
        "for i in range(11,20):\n",
        "  data = f\"{i}번째 줄입니다.\\n\"\n",
        "  f.write(data)\n",
        "f.close()"
      ],
      "metadata": {
        "id": "S6qtf1mXLjBI"
      },
      "execution_count": 60,
      "outputs": []
    },
    {
      "cell_type": "code",
      "source": [
        "#with문: 파일 자동으로 열고 닫기\n",
        "with open('foo.txt','w') as f:\n",
        "  content = 'Life is too short, you need python'\n",
        "  f.write(content)\n",
        "\n",
        "#함수 스코프: 함수 안에서 선언된 변수는 함수 밖에서 접근할 수 없다.\n",
        "#블록 스코프: if, for, while, with 등의 블록 안에서 성언된 변수는 블록 밖에서도 접근할 수 있다.\n",
        "print(content) #변수는 접근 가능"
      ],
      "metadata": {
        "colab": {
          "base_uri": "https://localhost:8080/"
        },
        "id": "rAA6JilxMHnY",
        "outputId": "36e30072-17c6-49dd-f135-be07f1440874"
      },
      "execution_count": 64,
      "outputs": [
        {
          "output_type": "stream",
          "name": "stdout",
          "text": [
            "Life is too short, you need python\n"
          ]
        }
      ]
    },
    {
      "cell_type": "code",
      "source": [
        "#파일 처리 주의사항\n",
        "#한글 포함 파일은 인코딩 명시 권장\n",
        "with open(\"한글파일.txt\",'w', encoding='utf-8') as f:\n",
        "  f.write('안녕하세요, 파이썬!')\n",
        "with open('한글파일.txt','r', encoding='utf-8') as f:\n",
        "  content = f.read()\n",
        "  print(content)"
      ],
      "metadata": {
        "colab": {
          "base_uri": "https://localhost:8080/"
        },
        "id": "gJHrZGF1Nbwp",
        "outputId": "d553706f-1411-4f8c-fa98-e1ea0eed5d8a"
      },
      "execution_count": 66,
      "outputs": [
        {
          "output_type": "stream",
          "name": "stdout",
          "text": [
            "안녕하세요, 파이썬!\n"
          ]
        }
      ]
    }
  ]
}