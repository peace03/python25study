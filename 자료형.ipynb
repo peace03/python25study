{
  "nbformat": 4,
  "nbformat_minor": 0,
  "metadata": {
    "colab": {
      "provenance": [],
      "authorship_tag": "ABX9TyPd8Lw278u43NVOG6fXWWEN",
      "include_colab_link": true
    },
    "kernelspec": {
      "name": "python3",
      "display_name": "Python 3"
    },
    "language_info": {
      "name": "python"
    }
  },
  "cells": [
    {
      "cell_type": "markdown",
      "metadata": {
        "id": "view-in-github",
        "colab_type": "text"
      },
      "source": [
        "<a href=\"https://colab.research.google.com/github/peace03/python25study/blob/main/%EC%9E%90%EB%A3%8C%ED%98%95.ipynb\" target=\"_parent\"><img src=\"https://colab.research.google.com/assets/colab-badge.svg\" alt=\"Open In Colab\"/></a>"
      ]
    },
    {
      "cell_type": "code",
      "execution_count": null,
      "metadata": {
        "colab": {
          "base_uri": "https://localhost:8080/"
        },
        "id": "P-7IDI2pyvZc",
        "outputId": "4987627e-f6e5-429c-86c0-34a8e19e6053"
      },
      "outputs": [
        {
          "output_type": "stream",
          "name": "stdout",
          "text": [
            "123\n"
          ]
        }
      ],
      "source": [
        "# 숫자형\n",
        "# Number 타입: 정수, 실수, 8진수, 16진수, 2진수 등을 표현한다.\n",
        "a = 123\n",
        "print(a)"
      ]
    },
    {
      "cell_type": "code",
      "source": [
        "a = 0o177\n",
        "print(a)"
      ],
      "metadata": {
        "colab": {
          "base_uri": "https://localhost:8080/"
        },
        "id": "waW9VLLk1BnY",
        "outputId": "977d74a9-7b3d-4618-fe01-8c5a00913a70"
      },
      "execution_count": null,
      "outputs": [
        {
          "output_type": "stream",
          "name": "stdout",
          "text": [
            "127\n"
          ]
        }
      ]
    },
    {
      "cell_type": "code",
      "source": [
        "a = 0x8ff\n",
        "print(a)"
      ],
      "metadata": {
        "colab": {
          "base_uri": "https://localhost:8080/"
        },
        "id": "OgwCSjvD4y_Y",
        "outputId": "2004fdfe-e016-49fc-dbb3-d0dc7efa573e"
      },
      "execution_count": null,
      "outputs": [
        {
          "output_type": "stream",
          "name": "stdout",
          "text": [
            "2303\n"
          ]
        }
      ]
    },
    {
      "cell_type": "code",
      "source": [
        "a = 3\n",
        "b = 5\n",
        "print(a ** b)"
      ],
      "metadata": {
        "colab": {
          "base_uri": "https://localhost:8080/"
        },
        "id": "dSeHG6085E9A",
        "outputId": "745a058d-7957-4581-fffd-78e78741ce53"
      },
      "execution_count": null,
      "outputs": [
        {
          "output_type": "stream",
          "name": "stdout",
          "text": [
            "243\n"
          ]
        }
      ]
    },
    {
      "cell_type": "code",
      "source": [
        "a=int(input())\n",
        "if a % 5 == 0:\n",
        "  print(a,\"는 5의 배수입니다.\")\n",
        "else:\n",
        "  print(a,\"는 5의 배수가 아닙니다.\")"
      ],
      "metadata": {
        "colab": {
          "base_uri": "https://localhost:8080/"
        },
        "id": "BfeNR1U35Ps3",
        "outputId": "9b474ac6-ba97-456b-8b31-a508477e7130"
      },
      "execution_count": null,
      "outputs": [
        {
          "output_type": "stream",
          "name": "stdout",
          "text": [
            "60\n",
            "60 는 5의 배수입니다.\n"
          ]
        }
      ]
    },
    {
      "cell_type": "code",
      "source": [
        "#문자열 자료형\n",
        "#역슬래시로 큰싸옴표 문자열로 중복 사용\n",
        "food = \"\\\"Python is very easy.\\\" he says.\"\n",
        "print(food)"
      ],
      "metadata": {
        "colab": {
          "base_uri": "https://localhost:8080/"
        },
        "id": "znauNY-u6QZZ",
        "outputId": "15fadf57-6dce-4ab0-a676-a6dc15fdb441"
      },
      "execution_count": null,
      "outputs": [
        {
          "output_type": "stream",
          "name": "stdout",
          "text": [
            "\"Python is very easy.\" he says.\n"
          ]
        }
      ]
    },
    {
      "cell_type": "code",
      "source": [
        "a = \"\"\"I\n",
        "am\n",
        "Ironman\"\"\"\n",
        "print(a)"
      ],
      "metadata": {
        "colab": {
          "base_uri": "https://localhost:8080/"
        },
        "id": "u3bFqWIh6_wJ",
        "outputId": "622c713c-5ef7-474d-c279-7a90e6e5a8c8"
      },
      "execution_count": null,
      "outputs": [
        {
          "output_type": "stream",
          "name": "stdout",
          "text": [
            "I\n",
            "am\n",
            "Ironman\n"
          ]
        }
      ]
    },
    {
      "cell_type": "code",
      "source": [
        "head = \"Python\"\n",
        "tail = \" is fun!\"\n",
        "print(head + tail)\n",
        "print(head * 2)"
      ],
      "metadata": {
        "colab": {
          "base_uri": "https://localhost:8080/"
        },
        "id": "mQxvhYFR7bYg",
        "outputId": "49b73c8c-c218-4b04-a72f-c9a7987b0752"
      },
      "execution_count": null,
      "outputs": [
        {
          "output_type": "stream",
          "name": "stdout",
          "text": [
            "Python is fun!\n",
            "PythonPython\n"
          ]
        }
      ]
    },
    {
      "cell_type": "code",
      "source": [
        "a = \"Life is too short, You need Python\"\n",
        "print(a[:4])\n",
        "print(a[-6:])"
      ],
      "metadata": {
        "colab": {
          "base_uri": "https://localhost:8080/"
        },
        "id": "hcTVd-0Y7uVP",
        "outputId": "d0ebcf00-ab6b-4a98-ba97-8dcab67e658b"
      },
      "execution_count": null,
      "outputs": [
        {
          "output_type": "stream",
          "name": "stdout",
          "text": [
            "Life\n",
            "Python\n"
          ]
        }
      ]
    },
    {
      "cell_type": "code",
      "source": [
        "a = \"20230331Rainy\"\n",
        "date = a[:8]\n",
        "weather = a[8:]\n",
        "print(date)\n",
        "print(weather)\n"
      ],
      "metadata": {
        "colab": {
          "base_uri": "https://localhost:8080/"
        },
        "id": "J6ovBXe69lFA",
        "outputId": "e9d6d062-aec0-4075-e734-e3f7390b61f5"
      },
      "execution_count": null,
      "outputs": [
        {
          "output_type": "stream",
          "name": "stdout",
          "text": [
            "20230331\n",
            "Rainy\n"
          ]
        }
      ]
    },
    {
      "cell_type": "code",
      "source": [
        "a = \"pithon\"\n",
        "a = a[:1] + 'y' + a[2:]\n",
        "print(a)"
      ],
      "metadata": {
        "colab": {
          "base_uri": "https://localhost:8080/"
        },
        "id": "tZaRT-z998EI",
        "outputId": "5e3196eb-cd1c-4239-ebdd-12d0c33931f1"
      },
      "execution_count": null,
      "outputs": [
        {
          "output_type": "stream",
          "name": "stdout",
          "text": [
            "python\n"
          ]
        }
      ]
    },
    {
      "cell_type": "code",
      "source": [
        "# 문자열 포매팅\n",
        "# %s\t문자열(String)\n",
        "# %c\t문자 1개(character)\n",
        "# %d\t정수(Integer)\n",
        "# %f\t부동소수(floating-point)\n",
        "# %o\t8진수\n",
        "# %x\t16진수\n",
        "# %%\tLiteral % (문자 % 자체)\n",
        "a = \"현재 온도: %d도\"\n",
        "print(a%30)"
      ],
      "metadata": {
        "colab": {
          "base_uri": "https://localhost:8080/"
        },
        "id": "m3kpRf4v-Tl_",
        "outputId": "1975a858-6b6c-4e63-8495-3ac698c706ce"
      },
      "execution_count": null,
      "outputs": [
        {
          "output_type": "stream",
          "name": "stdout",
          "text": [
            "현재 온도: 30도\n"
          ]
        }
      ]
    },
    {
      "cell_type": "code",
      "source": [
        "a = \"I ate {0} apples. so I was sick for {1} days\"\n",
        "print(a.format(50, 2))"
      ],
      "metadata": {
        "colab": {
          "base_uri": "https://localhost:8080/"
        },
        "id": "5yh0GFXz_ds_",
        "outputId": "70f2d94b-fd3d-4ba5-b4d1-8c90b8cd89c5"
      },
      "execution_count": null,
      "outputs": [
        {
          "output_type": "stream",
          "name": "stdout",
          "text": [
            "I ate 50 apples. so I was sick for 2 days\n"
          ]
        }
      ]
    },
    {
      "cell_type": "code",
      "source": [
        "a = \"I ate {number} apples. so I was sick for {three} days\"\n",
        "print(a.format(number=50, three=2))"
      ],
      "metadata": {
        "colab": {
          "base_uri": "https://localhost:8080/"
        },
        "id": "A_wP2QWt_yh_",
        "outputId": "6583be8b-68d3-4534-d761-43bbcf4c2cf9"
      },
      "execution_count": null,
      "outputs": [
        {
          "output_type": "stream",
          "name": "stdout",
          "text": [
            "I ate 50 apples. so I was sick for 2 days\n"
          ]
        }
      ]
    },
    {
      "cell_type": "code",
      "source": [
        "#문자열 정렬\n",
        "print(\"%10s\" % \"hi\")\n",
        "print(\"%-10sjane.\" % 'hi')\n",
        "print(\"{0:<10}\".format(\"hi\"))\n",
        "print(\"{0:>10}\".format(\"hi\"))\n",
        "print(\"{0:*^10}\".format(\"hi\"))"
      ],
      "metadata": {
        "colab": {
          "base_uri": "https://localhost:8080/"
        },
        "id": "EAkLyP6YAKwH",
        "outputId": "9bd3af67-6114-4eed-808e-7c4fe8a50cdf"
      },
      "execution_count": null,
      "outputs": [
        {
          "output_type": "stream",
          "name": "stdout",
          "text": [
            "        hi\n",
            "hi        jane.\n",
            "hi        \n",
            "        hi\n",
            "****hi****\n"
          ]
        }
      ]
    },
    {
      "cell_type": "code",
      "source": [
        "#딕셔너리와 f포매팅(3.6버전부터 사용가능)\n",
        "profile = {'name':'홍길동', 'age':35}\n",
        "print(f'나의 이름은 {profile[\"name\"]}입니다. 나이는 {profile[\"age\"]}살입니다.')\n",
        "#f포매팅 문자열 정렬\n",
        "print(f'{\"hi\":<10}')\n",
        "print(f'{\"hi\":>10}')\n",
        "print(f'{\"hi\":*^10}')"
      ],
      "metadata": {
        "colab": {
          "base_uri": "https://localhost:8080/"
        },
        "id": "mxRiG2mLCHx_",
        "outputId": "66124d73-df02-4a06-a10b-9a3322af3f21"
      },
      "execution_count": null,
      "outputs": [
        {
          "output_type": "stream",
          "name": "stdout",
          "text": [
            "나의 이름은 홍길동입니다. 나이는 35살입니다.\n",
            "hi        \n",
            "        hi\n",
            "****hi****\n"
          ]
        }
      ]
    },
    {
      "cell_type": "code",
      "source": [
        "money = 12058946500\n",
        "print(f\"자산은 총 {money:,}원 있습니다.\")"
      ],
      "metadata": {
        "colab": {
          "base_uri": "https://localhost:8080/"
        },
        "id": "KMiC-qIBD1f3",
        "outputId": "4c91d896-9b5d-478e-dfcc-9d7b00ed7b42"
      },
      "execution_count": null,
      "outputs": [
        {
          "output_type": "stream",
          "name": "stdout",
          "text": [
            "자산은 총 12,058,946,500원 있습니다.\n"
          ]
        }
      ]
    },
    {
      "cell_type": "code",
      "source": [
        "#문자열 관련 함수\n",
        "a = \"python\"\n",
        "print(a.count('y')) #문자 개수\n",
        "print(a.find('n')) #위치 알려주기\n",
        "print(a.index('n'))\n",
        "print(\",\".join(a)) #문자사이 문자 넣기\n",
        "a = a.upper() #대문자 변환\n",
        "print(a)\n",
        "a = a.lower() #소문자 변환\n",
        "print(a)\n",
        "a = \"     python      \"\n",
        "print(a.lstrip()) #왼쪽 공백 삭제\n",
        "print(a.rstrip()) #오른쪽 공백 삭제\n",
        "a = a.strip() #양쪽 공백 삭제\n",
        "print(a)\n",
        "print(a.replace(\"py\", \"nay\")) #문자 교체\n",
        "a = \"python is too easy\"\n",
        "print(a.split()) #문자열 나누기, 리스트에 넣는다\n",
        "print(\":\".join(a).split(':'))\n",
        "b = \"python\"\n",
        "print(b.isalpha(), a.isalpha()) #알파벳만 있는지 확인\n",
        "c = \"500\"\n",
        "print(c.isdigit(), a.isdigit()) #*문자열*에 숫자만 있는지 확인\n",
        "print(a.startswith(\"py\")) #특정 문자열로 시작하는지 확인\n",
        "print(a.endswith(\"easy\")) #특정 문자열로 끝나는지 확인"
      ],
      "metadata": {
        "colab": {
          "base_uri": "https://localhost:8080/"
        },
        "id": "oCcg4znnEJyP",
        "outputId": "fb50fd84-1199-4654-996a-4531af711ed2"
      },
      "execution_count": null,
      "outputs": [
        {
          "output_type": "stream",
          "name": "stdout",
          "text": [
            "1\n",
            "5\n",
            "5\n",
            "p,y,t,h,o,n\n",
            "PYTHON\n",
            "python\n",
            "python      \n",
            "     python\n",
            "python\n",
            "naython\n",
            "['python', 'is', 'too', 'easy']\n",
            "['p', 'y', 't', 'h', 'o', 'n', ' ', 'i', 's', ' ', 't', 'o', 'o', ' ', 'e', 'a', 's', 'y']\n",
            "True False\n",
            "True False\n",
            "True\n",
            "True\n"
          ]
        }
      ]
    },
    {
      "cell_type": "code",
      "source": [
        "a = \"python\"\n",
        "\", \".join(a)"
      ],
      "metadata": {
        "colab": {
          "base_uri": "https://localhost:8080/",
          "height": 35
        },
        "id": "NsBJbGTXgbEr",
        "outputId": "3145b5b3-b721-491d-fe9b-e7c26917aa11"
      },
      "execution_count": 85,
      "outputs": [
        {
          "output_type": "execute_result",
          "data": {
            "text/plain": [
              "'p, y, t, h, o, n'"
            ],
            "application/vnd.google.colaboratory.intrinsic+json": {
              "type": "string"
            }
          },
          "metadata": {},
          "execution_count": 85
        }
      ]
    },
    {
      "cell_type": "code",
      "source": [
        "#리스트 자료형\n",
        "a = [1,2,3]\n",
        "a[0] + a[2]"
      ],
      "metadata": {
        "colab": {
          "base_uri": "https://localhost:8080/"
        },
        "id": "1omThbbfqHNy",
        "outputId": "46cadb7a-91be-428c-d9eb-87c1b422996c"
      },
      "execution_count": 89,
      "outputs": [
        {
          "output_type": "execute_result",
          "data": {
            "text/plain": [
              "4"
            ]
          },
          "metadata": {},
          "execution_count": 89
        }
      ]
    },
    {
      "cell_type": "code",
      "source": [
        "a = [1,2,3,['a','b','c',['python', 'easy']]] #3중 리스트\n",
        "\",\".join(a[3][3][0]).split(\",\")"
      ],
      "metadata": {
        "colab": {
          "base_uri": "https://localhost:8080/"
        },
        "id": "IBNRjzIzrefB",
        "outputId": "44f5ae23-32a0-4cf5-e86d-f703761d643d"
      },
      "execution_count": 96,
      "outputs": [
        {
          "output_type": "execute_result",
          "data": {
            "text/plain": [
              "['p', 'y', 't', 'h', 'o', 'n']"
            ]
          },
          "metadata": {},
          "execution_count": 96
        }
      ]
    },
    {
      "cell_type": "code",
      "source": [
        "#리스트 슬라이싱\n",
        "a = [1,2,[3,4,5],6,7]\n",
        "a[2][1:]"
      ],
      "metadata": {
        "colab": {
          "base_uri": "https://localhost:8080/"
        },
        "id": "FU0DgUA3sZ-i",
        "outputId": "47bb7b5d-0ab5-4dd4-a8d5-631126ac810a"
      },
      "execution_count": 99,
      "outputs": [
        {
          "output_type": "execute_result",
          "data": {
            "text/plain": [
              "[4, 5]"
            ]
          },
          "metadata": {},
          "execution_count": 99
        }
      ]
    },
    {
      "cell_type": "code",
      "source": [
        "a = [1,2,3]\n",
        "b = [4,5,6]\n",
        "print(a+b)\n",
        "print(a*3)\n",
        "len(a) #리스트 길이"
      ],
      "metadata": {
        "colab": {
          "base_uri": "https://localhost:8080/"
        },
        "id": "Cqiy3zo3xA0Z",
        "outputId": "0b5361f3-f0d6-4413-b2f4-94adf6e33248"
      },
      "execution_count": 101,
      "outputs": [
        {
          "output_type": "stream",
          "name": "stdout",
          "text": [
            "[1, 2, 3, 4, 5, 6]\n",
            "[1, 2, 3, 1, 2, 3, 1, 2, 3]\n"
          ]
        },
        {
          "output_type": "execute_result",
          "data": {
            "text/plain": [
              "3"
            ]
          },
          "metadata": {},
          "execution_count": 101
        }
      ]
    },
    {
      "cell_type": "code",
      "source": [
        "#리스트 수정, 삭제\n",
        "a = [1,2,3]\n",
        "a[2] = 4 #수정\n",
        "del a[:1] #삭제\n",
        "print(a)"
      ],
      "metadata": {
        "colab": {
          "base_uri": "https://localhost:8080/"
        },
        "id": "1j7SShrIxSz4",
        "outputId": "95a140cd-7fc3-454f-cebc-b5b8c116f096"
      },
      "execution_count": 105,
      "outputs": [
        {
          "output_type": "stream",
          "name": "stdout",
          "text": [
            "[2, 4]\n"
          ]
        }
      ]
    },
    {
      "cell_type": "code",
      "source": [
        "#리스트 관련 함수\n",
        "a = [3,2,1,2]\n",
        "a.append([4,5]) #요소 추가\n",
        "a.pop() #마지막 요소 반환 후 해당 요소 삭제\n",
        "a.reverse() #뒤집기\n",
        "print(a.index(2)) #인덱스 반환(가장 왼쪽 x값)\n",
        "a.insert(3,4)\n",
        "a.sort() #정렬\n",
        "print(a.count(2)) #요소 개수 세기\n",
        "a.remove(2) #요소 제거 (가장 왼쪽 x값)\n",
        "a.extend([5,6,7])\n",
        "print(a)"
      ],
      "metadata": {
        "colab": {
          "base_uri": "https://localhost:8080/"
        },
        "id": "gluljv6nyCxB",
        "outputId": "0feb9692-c808-4f8a-c773-746c0e2ded6e"
      },
      "execution_count": 128,
      "outputs": [
        {
          "output_type": "stream",
          "name": "stdout",
          "text": [
            "0\n",
            "2\n",
            "[1, 2, 3, 4, 5, 6, 7]\n"
          ]
        }
      ]
    },
    {
      "cell_type": "code",
      "source": [
        "#튜플 자료형 (요소값 변화가 불가능)\n",
        "t1 = ()\n",
        "t2 = (1,) #한개 요소일 땐 ',' 필수\n",
        "t3 = (1,2,3)\n",
        "t4 = 1,2,3 #소괄호 생략 가능\n",
        "t5 = ('a','b',('ab','cd'))\n",
        "print(t4)\n",
        "type(t4[0])"
      ],
      "metadata": {
        "colab": {
          "base_uri": "https://localhost:8080/"
        },
        "id": "APKboCi60Fjm",
        "outputId": "e34b9d71-e010-450a-e231-35f1b86c4df8"
      },
      "execution_count": 238,
      "outputs": [
        {
          "output_type": "stream",
          "name": "stdout",
          "text": [
            "(1, 2, 3)\n"
          ]
        },
        {
          "output_type": "execute_result",
          "data": {
            "text/plain": [
              "int"
            ]
          },
          "metadata": {},
          "execution_count": 238
        }
      ]
    },
    {
      "cell_type": "code",
      "source": [
        "t = (1,2,'a','b')\n",
        "t2 = (3,4)\n",
        "print(t[0]) #인덱싱\n",
        "print(t[2:]) #슬라이싱\n",
        "t3 = t + t2\n",
        "len(t3) #길이"
      ],
      "metadata": {
        "colab": {
          "base_uri": "https://localhost:8080/"
        },
        "id": "D5oDfKd12nxI",
        "outputId": "2339a67f-9a93-4d2f-8f5b-d26115280483"
      },
      "execution_count": 137,
      "outputs": [
        {
          "output_type": "stream",
          "name": "stdout",
          "text": [
            "1\n",
            "('a', 'b')\n"
          ]
        },
        {
          "output_type": "execute_result",
          "data": {
            "text/plain": [
              "6"
            ]
          },
          "metadata": {},
          "execution_count": 137
        }
      ]
    },
    {
      "cell_type": "code",
      "source": [
        "#딕셔너리 (대응관계 표현) Key - Value\n",
        "dic = {'name':'홍길동', 'phone':'010-1111-2222','birth':121212}\n",
        "dic['a'] = [1,2,3] #딕셔너리 쌍 추가 및 수정\n",
        "del dic['phone'] #딕셔너리 요소 삭제\n",
        "print(dic)"
      ],
      "metadata": {
        "colab": {
          "base_uri": "https://localhost:8080/"
        },
        "id": "10-56AfK3vw4",
        "outputId": "709eef56-7066-44a7-b8ec-2e16445a4840"
      },
      "execution_count": 150,
      "outputs": [
        {
          "output_type": "stream",
          "name": "stdout",
          "text": [
            "{'name': '홍길동', 'birth': 121212, 'a': [1, 2, 3]}\n"
          ]
        }
      ]
    },
    {
      "cell_type": "code",
      "source": [
        "#딕셔너리 관련 함수\n",
        "dic = {'name':'peace','phone':'010-1004-1004','birth':111111}\n",
        "print(dic.keys()) #key 리스트 객체 반환\n",
        "print(list(dic.keys())) #key 리스트 객체를 리스트로 반환\n",
        "for i in dic.keys():\n",
        "  print(i)\n",
        "print(\"=\"*20)\n",
        "print(dic.values()) #value 리스트 객체\n",
        "print(list(dic.values())) #value 리스트 객체를 리스트로 반환\n",
        "for i in dic.values():\n",
        "  print(i)\n",
        "print(\"=\"*20)\n",
        "print(dic.items()) #딕셔너리 쌍 튜플을 리스트로 묶은 객체 반환\n",
        "print(list(dic.items()))\n",
        "for i in dic.items():\n",
        "  print(i[0])\n",
        "print(\"=\"*20)\n",
        "print(dic.get('nam','정보없음')) #dic['name']과 결과는 같지만 존재하지 않는 key일 때 none혹은 디폴트 값을 반환함\n",
        "print(\"=\"*20)\n",
        "print('name' in dic) #딕셔너리 안에 key 있는지 확인\n",
        "print(\"=\"*20)\n",
        "print(dic.pop('name'),'\\n',dic) #딕셔너리 쌍 반환 후 제거\n",
        "print(\"=\"*20)\n",
        "dic.clear()\n",
        "dic"
      ],
      "metadata": {
        "id": "SOqQlthh7Jw4"
      },
      "execution_count": null,
      "outputs": []
    },
    {
      "cell_type": "code",
      "source": [
        "#집합 자료형 (인덱싱X)\n",
        "s1 = set([1,2,3])\n",
        "s2 = set(\"hello\") #중복X, 순서X\n",
        "s3 = {1,2,3} #set대신 중괄호 사용가능 ※s3={} 딕셔너리가 될 수 있으므로 요소필요\n",
        "\n",
        "s1.add(4) #값 추가\n",
        "s1.update([5,6,7]) #값 여러개 추가\n",
        "s1.remove(5) #값 제거 (없는 값은 오류남)\n",
        "s1.discard(8) #값 제거 (없어도 오류 안남)\n",
        "print(s1, s2, s3)\n",
        "s1.clear() #모든 값 제거\n",
        "s1"
      ],
      "metadata": {
        "colab": {
          "base_uri": "https://localhost:8080/"
        },
        "id": "SqodUUQQCgDO",
        "outputId": "1d2a807a-7f50-4cca-e73e-3a94b62b015c"
      },
      "execution_count": 208,
      "outputs": [
        {
          "output_type": "stream",
          "name": "stdout",
          "text": [
            "{1, 2, 3, 4, 6, 7} {'e', 'l', 'o', 'h'} {1, 2, 3}\n"
          ]
        },
        {
          "output_type": "execute_result",
          "data": {
            "text/plain": [
              "set()"
            ]
          },
          "metadata": {},
          "execution_count": 208
        }
      ]
    },
    {
      "cell_type": "code",
      "source": [
        "#집합자료형 인덱싱\n",
        "s = set([1,2,3])\n",
        "s = list(s)\n",
        "s[2]"
      ],
      "metadata": {
        "colab": {
          "base_uri": "https://localhost:8080/"
        },
        "id": "ObU2b9LzEGBG",
        "outputId": "f4edc53b-fa90-4714-b143-937e3bdd741d"
      },
      "execution_count": 193,
      "outputs": [
        {
          "output_type": "execute_result",
          "data": {
            "text/plain": [
              "3"
            ]
          },
          "metadata": {},
          "execution_count": 193
        }
      ]
    },
    {
      "cell_type": "code",
      "source": [
        "#교집합, 합집합, 차집합\n",
        "s1 = set([1,2,3,4,5,6,7])\n",
        "s2 = set([4,5,6,7,8,9,10])\n",
        "print(s1 & s2) #교집합\n",
        "print(s1 | s2) #합집합\n",
        "print(s1.union(s2)) #합집합 (union())\n",
        "print(s1-s2,s2-s1) #차집합 (difference()도 가능)"
      ],
      "metadata": {
        "colab": {
          "base_uri": "https://localhost:8080/"
        },
        "id": "sm2wskSQESQd",
        "outputId": "8294da3c-fa38-4e9b-e3fc-0f58e54a470f"
      },
      "execution_count": 199,
      "outputs": [
        {
          "output_type": "stream",
          "name": "stdout",
          "text": [
            "{4, 5, 6, 7}\n",
            "{1, 2, 3, 4, 5, 6, 7, 8, 9, 10}\n",
            "{1, 2, 3, 4, 5, 6, 7, 8, 9, 10}\n",
            "{1, 2, 3} {8, 9, 10}\n"
          ]
        }
      ]
    },
    {
      "cell_type": "code",
      "source": [
        "#불 자료형\n",
        "a = True\n",
        "b = False\n",
        "type(a)"
      ],
      "metadata": {
        "colab": {
          "base_uri": "https://localhost:8080/"
        },
        "id": "20WCOnTpGXcG",
        "outputId": "523603c5-ea72-43ce-9160-a74371da6f33"
      },
      "execution_count": 214,
      "outputs": [
        {
          "output_type": "execute_result",
          "data": {
            "text/plain": [
              "bool"
            ]
          },
          "metadata": {},
          "execution_count": 214
        }
      ]
    },
    {
      "cell_type": "code",
      "source": [
        "#불 사용 예\n",
        "a = [1,2,3,4]\n",
        "while a:\n",
        "  print(a.pop())\n",
        "  print(bool(a))"
      ],
      "metadata": {
        "colab": {
          "base_uri": "https://localhost:8080/"
        },
        "id": "_C_zz8IsGwZt",
        "outputId": "b2e4cb07-e1c9-44cd-b15e-a2c5f6c185e8"
      },
      "execution_count": 212,
      "outputs": [
        {
          "output_type": "stream",
          "name": "stdout",
          "text": [
            "4\n",
            "True\n",
            "3\n",
            "True\n",
            "2\n",
            "True\n",
            "1\n",
            "False\n"
          ]
        }
      ]
    },
    {
      "cell_type": "code",
      "source": [
        "#and, or, not연산자\n",
        "print(True and False)\n",
        "print(True or False)\n",
        "print(not True)"
      ],
      "metadata": {
        "colab": {
          "base_uri": "https://localhost:8080/"
        },
        "id": "KyCn-KHxHVl_",
        "outputId": "7adc4bca-ff09-4511-f261-41dc00849358"
      },
      "execution_count": 215,
      "outputs": [
        {
          "output_type": "stream",
          "name": "stdout",
          "text": [
            "False\n",
            "True\n",
            "False\n"
          ]
        }
      ]
    },
    {
      "cell_type": "code",
      "source": [
        "#변수: 자료형 값 저장공간\n",
        "#==============================================규칙\n",
        "#영문자, 숫자, 언더스코어(_)만 사용할 수 있다.\n",
        "#숫자로 시작할 수 없다.\n",
        "#예약어는 사용할 수 없다. (False, None, True, and, as, assert, break, class, continue, def, del, elif, else, except, finally, for, from, global, if, import,\n",
        "#in, is, lambda, nonlocal, not, or, pass, raise, return, try, while, with, yield)\n",
        "#대소문자를 구분한다."
      ],
      "metadata": {
        "colab": {
          "base_uri": "https://localhost:8080/"
        },
        "id": "W2ZhBa2wH3N2",
        "outputId": "6a9bc595-769b-4b4d-f15f-6f4a5f90e840"
      },
      "execution_count": 218,
      "outputs": [
        {
          "output_type": "stream",
          "name": "stdout",
          "text": [
            "[1, 4, 3] [1, 4, 3]\n"
          ]
        }
      ]
    },
    {
      "cell_type": "code",
      "source": [
        "#복사\n",
        "a = [1,2,3]\n",
        "b = a #같은 객체를 가리키기 때문에 사본만 수정이 안된다.\n",
        "b[1] = 4\n",
        "print(a,b)\n",
        "id(a), id(b) #같은 메모리 주소를 사용하기 때문\n",
        "#======================================================\n",
        "#첫번째 방법 [:]이용\n",
        "a = [1,2,3]\n",
        "b = a[:]\n",
        "b[1] = 4\n",
        "print(a,b)\n",
        "#두번째 방법 copy모듈 사용\n",
        "from copy import copy\n",
        "b = copy(a)\n",
        "b[2] = 5\n",
        "print(a,b)"
      ],
      "metadata": {
        "colab": {
          "base_uri": "https://localhost:8080/"
        },
        "id": "TcBEDeS6KEw9",
        "outputId": "a0f0434b-8409-4af8-c755-9a924a010eef"
      },
      "execution_count": 223,
      "outputs": [
        {
          "output_type": "stream",
          "name": "stdout",
          "text": [
            "[1, 4, 3] [1, 4, 3]\n",
            "[1, 2, 3] [1, 4, 3]\n",
            "[1, 2, 3] [1, 2, 5]\n"
          ]
        }
      ]
    },
    {
      "cell_type": "code",
      "source": [
        "#변수 만드는 방법\n",
        "a, b = ('python', 'easy') #튜블로 a,b에 대입\n",
        "print(a,b)\n",
        "a = b = 'python'\n",
        "print(id(a), id(b))\n",
        "a = 3\n",
        "b = 5\n",
        "print(id(a), id(b))\n",
        "a, b = b, a\n",
        "print(a,b)\n",
        "print(id(a), id(b))"
      ],
      "metadata": {
        "colab": {
          "base_uri": "https://localhost:8080/"
        },
        "id": "BL4I99GuLOte",
        "outputId": "500637db-a385-4820-8f76-b67f4321a4f7"
      },
      "execution_count": 241,
      "outputs": [
        {
          "output_type": "stream",
          "name": "stdout",
          "text": [
            "python easy\n",
            "133678398241696 133678398241696\n",
            "11654440 11654504\n",
            "5 3\n",
            "11654504 11654440\n"
          ]
        }
      ]
    }
  ]
}