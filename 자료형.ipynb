{
  "nbformat": 4,
  "nbformat_minor": 0,
  "metadata": {
    "colab": {
      "provenance": [],
      "authorship_tag": "ABX9TyOOUIDdEC8xBe4plHRihVIO",
      "include_colab_link": true
    },
    "kernelspec": {
      "name": "python3",
      "display_name": "Python 3"
    },
    "language_info": {
      "name": "python"
    }
  },
  "cells": [
    {
      "cell_type": "markdown",
      "metadata": {
        "id": "view-in-github",
        "colab_type": "text"
      },
      "source": [
        "<a href=\"https://colab.research.google.com/github/peace03/python25study/blob/main/%EC%9E%90%EB%A3%8C%ED%98%95.ipynb\" target=\"_parent\"><img src=\"https://colab.research.google.com/assets/colab-badge.svg\" alt=\"Open In Colab\"/></a>"
      ]
    },
    {
      "cell_type": "code",
      "execution_count": null,
      "metadata": {
        "colab": {
          "base_uri": "https://localhost:8080/"
        },
        "id": "P-7IDI2pyvZc",
        "outputId": "4987627e-f6e5-429c-86c0-34a8e19e6053"
      },
      "outputs": [
        {
          "output_type": "stream",
          "name": "stdout",
          "text": [
            "123\n"
          ]
        }
      ],
      "source": [
        "# 숫자형\n",
        "# Number 타입: 정수, 실수, 8진수, 16진수, 2진수 등을 표현한다.\n",
        "a = 123\n",
        "print(a)"
      ]
    },
    {
      "cell_type": "code",
      "source": [
        "a = 0o177\n",
        "print(a)"
      ],
      "metadata": {
        "colab": {
          "base_uri": "https://localhost:8080/"
        },
        "id": "waW9VLLk1BnY",
        "outputId": "977d74a9-7b3d-4618-fe01-8c5a00913a70"
      },
      "execution_count": null,
      "outputs": [
        {
          "output_type": "stream",
          "name": "stdout",
          "text": [
            "127\n"
          ]
        }
      ]
    },
    {
      "cell_type": "code",
      "source": [
        "a = 0x8ff\n",
        "print(a)"
      ],
      "metadata": {
        "colab": {
          "base_uri": "https://localhost:8080/"
        },
        "id": "OgwCSjvD4y_Y",
        "outputId": "2004fdfe-e016-49fc-dbb3-d0dc7efa573e"
      },
      "execution_count": null,
      "outputs": [
        {
          "output_type": "stream",
          "name": "stdout",
          "text": [
            "2303\n"
          ]
        }
      ]
    },
    {
      "cell_type": "code",
      "source": [
        "a = 3\n",
        "b = 5\n",
        "print(a ** b)"
      ],
      "metadata": {
        "colab": {
          "base_uri": "https://localhost:8080/"
        },
        "id": "dSeHG6085E9A",
        "outputId": "745a058d-7957-4581-fffd-78e78741ce53"
      },
      "execution_count": null,
      "outputs": [
        {
          "output_type": "stream",
          "name": "stdout",
          "text": [
            "243\n"
          ]
        }
      ]
    },
    {
      "cell_type": "code",
      "source": [
        "a=int(input())\n",
        "if a % 5 == 0:\n",
        "  print(a,\"는 5의 배수입니다.\")\n",
        "else:\n",
        "  print(a,\"는 5의 배수가 아닙니다.\")"
      ],
      "metadata": {
        "colab": {
          "base_uri": "https://localhost:8080/"
        },
        "id": "BfeNR1U35Ps3",
        "outputId": "9b474ac6-ba97-456b-8b31-a508477e7130"
      },
      "execution_count": null,
      "outputs": [
        {
          "output_type": "stream",
          "name": "stdout",
          "text": [
            "60\n",
            "60 는 5의 배수입니다.\n"
          ]
        }
      ]
    },
    {
      "cell_type": "code",
      "source": [
        "#문자열 자료형\n",
        "#역슬래시로 큰싸옴표 문자열로 중복 사용\n",
        "food = \"\\\"Python is very easy.\\\" he says.\"\n",
        "print(food)"
      ],
      "metadata": {
        "colab": {
          "base_uri": "https://localhost:8080/"
        },
        "id": "znauNY-u6QZZ",
        "outputId": "15fadf57-6dce-4ab0-a676-a6dc15fdb441"
      },
      "execution_count": null,
      "outputs": [
        {
          "output_type": "stream",
          "name": "stdout",
          "text": [
            "\"Python is very easy.\" he says.\n"
          ]
        }
      ]
    },
    {
      "cell_type": "code",
      "source": [
        "a = \"\"\"I\n",
        "am\n",
        "Ironman\"\"\"\n",
        "print(a)"
      ],
      "metadata": {
        "colab": {
          "base_uri": "https://localhost:8080/"
        },
        "id": "u3bFqWIh6_wJ",
        "outputId": "622c713c-5ef7-474d-c279-7a90e6e5a8c8"
      },
      "execution_count": null,
      "outputs": [
        {
          "output_type": "stream",
          "name": "stdout",
          "text": [
            "I\n",
            "am\n",
            "Ironman\n"
          ]
        }
      ]
    },
    {
      "cell_type": "code",
      "source": [
        "head = \"Python\"\n",
        "tail = \" is fun!\"\n",
        "print(head + tail)\n",
        "print(head * 2)"
      ],
      "metadata": {
        "colab": {
          "base_uri": "https://localhost:8080/"
        },
        "id": "mQxvhYFR7bYg",
        "outputId": "49b73c8c-c218-4b04-a72f-c9a7987b0752"
      },
      "execution_count": null,
      "outputs": [
        {
          "output_type": "stream",
          "name": "stdout",
          "text": [
            "Python is fun!\n",
            "PythonPython\n"
          ]
        }
      ]
    },
    {
      "cell_type": "code",
      "source": [
        "a = \"Life is too short, You need Python\"\n",
        "print(a[:4])\n",
        "print(a[-6:])"
      ],
      "metadata": {
        "colab": {
          "base_uri": "https://localhost:8080/"
        },
        "id": "hcTVd-0Y7uVP",
        "outputId": "d0ebcf00-ab6b-4a98-ba97-8dcab67e658b"
      },
      "execution_count": null,
      "outputs": [
        {
          "output_type": "stream",
          "name": "stdout",
          "text": [
            "Life\n",
            "Python\n"
          ]
        }
      ]
    },
    {
      "cell_type": "code",
      "source": [
        "a = \"20230331Rainy\"\n",
        "date = a[:8]\n",
        "weather = a[8:]\n",
        "print(date)\n",
        "print(weather)\n"
      ],
      "metadata": {
        "colab": {
          "base_uri": "https://localhost:8080/"
        },
        "id": "J6ovBXe69lFA",
        "outputId": "e9d6d062-aec0-4075-e734-e3f7390b61f5"
      },
      "execution_count": null,
      "outputs": [
        {
          "output_type": "stream",
          "name": "stdout",
          "text": [
            "20230331\n",
            "Rainy\n"
          ]
        }
      ]
    },
    {
      "cell_type": "code",
      "source": [
        "a = \"pithon\"\n",
        "a = a[:1] + 'y' + a[2:]\n",
        "print(a)"
      ],
      "metadata": {
        "colab": {
          "base_uri": "https://localhost:8080/"
        },
        "id": "tZaRT-z998EI",
        "outputId": "5e3196eb-cd1c-4239-ebdd-12d0c33931f1"
      },
      "execution_count": null,
      "outputs": [
        {
          "output_type": "stream",
          "name": "stdout",
          "text": [
            "python\n"
          ]
        }
      ]
    },
    {
      "cell_type": "code",
      "source": [
        "# 문자열 포매팅\n",
        "# %s\t문자열(String)\n",
        "# %c\t문자 1개(character)\n",
        "# %d\t정수(Integer)\n",
        "# %f\t부동소수(floating-point)\n",
        "# %o\t8진수\n",
        "# %x\t16진수\n",
        "# %%\tLiteral % (문자 % 자체)\n",
        "a = \"현재 온도: %d도\"\n",
        "print(a%30)"
      ],
      "metadata": {
        "colab": {
          "base_uri": "https://localhost:8080/"
        },
        "id": "m3kpRf4v-Tl_",
        "outputId": "1975a858-6b6c-4e63-8495-3ac698c706ce"
      },
      "execution_count": null,
      "outputs": [
        {
          "output_type": "stream",
          "name": "stdout",
          "text": [
            "현재 온도: 30도\n"
          ]
        }
      ]
    },
    {
      "cell_type": "code",
      "source": [
        "a = \"I ate {0} apples. so I was sick for {1} days\"\n",
        "print(a.format(50, 2))"
      ],
      "metadata": {
        "colab": {
          "base_uri": "https://localhost:8080/"
        },
        "id": "5yh0GFXz_ds_",
        "outputId": "70f2d94b-fd3d-4ba5-b4d1-8c90b8cd89c5"
      },
      "execution_count": null,
      "outputs": [
        {
          "output_type": "stream",
          "name": "stdout",
          "text": [
            "I ate 50 apples. so I was sick for 2 days\n"
          ]
        }
      ]
    },
    {
      "cell_type": "code",
      "source": [
        "a = \"I ate {number} apples. so I was sick for {three} days\"\n",
        "print(a.format(number=50, three=2))"
      ],
      "metadata": {
        "colab": {
          "base_uri": "https://localhost:8080/"
        },
        "id": "A_wP2QWt_yh_",
        "outputId": "6583be8b-68d3-4534-d761-43bbcf4c2cf9"
      },
      "execution_count": null,
      "outputs": [
        {
          "output_type": "stream",
          "name": "stdout",
          "text": [
            "I ate 50 apples. so I was sick for 2 days\n"
          ]
        }
      ]
    },
    {
      "cell_type": "code",
      "source": [
        "#문자열 정렬\n",
        "print(\"%10s\" % \"hi\")\n",
        "print(\"%-10sjane.\" % 'hi')\n",
        "print(\"{0:<10}\".format(\"hi\"))\n",
        "print(\"{0:>10}\".format(\"hi\"))\n",
        "print(\"{0:*^10}\".format(\"hi\"))"
      ],
      "metadata": {
        "colab": {
          "base_uri": "https://localhost:8080/"
        },
        "id": "EAkLyP6YAKwH",
        "outputId": "9bd3af67-6114-4eed-808e-7c4fe8a50cdf"
      },
      "execution_count": null,
      "outputs": [
        {
          "output_type": "stream",
          "name": "stdout",
          "text": [
            "        hi\n",
            "hi        jane.\n",
            "hi        \n",
            "        hi\n",
            "****hi****\n"
          ]
        }
      ]
    },
    {
      "cell_type": "code",
      "source": [
        "#딕셔너리와 f포매팅(3.6버전부터 사용가능)\n",
        "profile = {'name':'홍길동', 'age':35}\n",
        "print(f'나의 이름은 {profile[\"name\"]}입니다. 나이는 {profile[\"age\"]}살입니다.')\n",
        "#f포매팅 문자열 정렬\n",
        "print(f'{\"hi\":<10}')\n",
        "print(f'{\"hi\":>10}')\n",
        "print(f'{\"hi\":*^10}')"
      ],
      "metadata": {
        "colab": {
          "base_uri": "https://localhost:8080/"
        },
        "id": "mxRiG2mLCHx_",
        "outputId": "66124d73-df02-4a06-a10b-9a3322af3f21"
      },
      "execution_count": null,
      "outputs": [
        {
          "output_type": "stream",
          "name": "stdout",
          "text": [
            "나의 이름은 홍길동입니다. 나이는 35살입니다.\n",
            "hi        \n",
            "        hi\n",
            "****hi****\n"
          ]
        }
      ]
    },
    {
      "cell_type": "code",
      "source": [
        "money = 12058946500\n",
        "print(f\"자산은 총 {money:,}원 있습니다.\")"
      ],
      "metadata": {
        "colab": {
          "base_uri": "https://localhost:8080/"
        },
        "id": "KMiC-qIBD1f3",
        "outputId": "4c91d896-9b5d-478e-dfcc-9d7b00ed7b42"
      },
      "execution_count": null,
      "outputs": [
        {
          "output_type": "stream",
          "name": "stdout",
          "text": [
            "자산은 총 12,058,946,500원 있습니다.\n"
          ]
        }
      ]
    },
    {
      "cell_type": "code",
      "source": [
        "#문자열 관련 함수\n",
        "a = \"python\"\n",
        "print(a.count('y')) #문자 개수\n",
        "print(a.find('n')) #위치 알려주기\n",
        "print(a.index('n'))\n",
        "print(\",\".join(a)) #문자사이 문자 넣기\n",
        "a = a.upper() #대문자 변환\n",
        "print(a)\n",
        "a = a.lower() #소문자 변환\n",
        "print(a)\n",
        "a = \"     python      \"\n",
        "print(a.lstrip()) #왼쪽 공백 삭제\n",
        "print(a.rstrip()) #오른쪽 공백 삭제\n",
        "a = a.strip() #양쪽 공백 삭제\n",
        "print(a)\n",
        "print(a.replace(\"py\", \"nay\")) #문자 교체\n",
        "a = \"python is too easy\"\n",
        "print(a.split()) #문자열 나누기, 리스트에 넣는다\n",
        "print(\":\".join(a).split(':'))\n",
        "b = \"python\"\n",
        "print(b.isalpha(), a.isalpha()) #알파벳만 있는지 확인\n",
        "c = \"500\"\n",
        "print(c.isdigit(), a.isdigit()) #*문자열*에 숫자만 있는지 확인\n",
        "print(a.startswith(\"py\")) #특정 문자열로 시작하는지 확인\n",
        "print(a.endswith(\"easy\")) #특정 문자열로 끝나는지 확인"
      ],
      "metadata": {
        "colab": {
          "base_uri": "https://localhost:8080/"
        },
        "id": "oCcg4znnEJyP",
        "outputId": "fb50fd84-1199-4654-996a-4531af711ed2"
      },
      "execution_count": null,
      "outputs": [
        {
          "output_type": "stream",
          "name": "stdout",
          "text": [
            "1\n",
            "5\n",
            "5\n",
            "p,y,t,h,o,n\n",
            "PYTHON\n",
            "python\n",
            "python      \n",
            "     python\n",
            "python\n",
            "naython\n",
            "['python', 'is', 'too', 'easy']\n",
            "['p', 'y', 't', 'h', 'o', 'n', ' ', 'i', 's', ' ', 't', 'o', 'o', ' ', 'e', 'a', 's', 'y']\n",
            "True False\n",
            "True False\n",
            "True\n",
            "True\n"
          ]
        }
      ]
    },
    {
      "cell_type": "code",
      "source": [
        "a = \"python\"\n",
        "\", \".join(a)"
      ],
      "metadata": {
        "colab": {
          "base_uri": "https://localhost:8080/",
          "height": 35
        },
        "id": "NsBJbGTXgbEr",
        "outputId": "3145b5b3-b721-491d-fe9b-e7c26917aa11"
      },
      "execution_count": 85,
      "outputs": [
        {
          "output_type": "execute_result",
          "data": {
            "text/plain": [
              "'p, y, t, h, o, n'"
            ],
            "application/vnd.google.colaboratory.intrinsic+json": {
              "type": "string"
            }
          },
          "metadata": {},
          "execution_count": 85
        }
      ]
    }
  ]
}